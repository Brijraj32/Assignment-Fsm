{
 "cells": [
  {
   "cell_type": "code",
   "execution_count": 5,
   "id": "76b1594d",
   "metadata": {
    "scrolled": false
   },
   "outputs": [
    {
     "name": "stdout",
     "output_type": "stream",
     "text": [
      "Naive Bayes Predictions: [0, 1]\n",
      "KNN Predictions: [0, 0]\n"
     ]
    }
   ],
   "source": [
    "import numpy as np\n",
    "import pandas as pd\n",
    "import matplotlib.pyplot as plt\n",
    "\n",
    "def calculate_probability(x, mean, std):\n",
    "    exponent = np.exp(-((x - mean) ** 2) / (2 * std ** 2))\n",
    "    return (1 / (np.sqrt(2 * np.pi) * std)) * exponent\n",
    "\n",
    "def fit_naive_bayes(x_train, y_train):\n",
    "    classes = np.unique(y_train)\n",
    "    parameters = {}\n",
    "    class_probabilities = {}\n",
    "\n",
    "    # Calculate class probabilities\n",
    "    for c in classes:\n",
    "        class_probabilities[c] = np.sum(y_train == c) / len(y_train)\n",
    "\n",
    "    # Calculate mean and standard deviation for each feature and class\n",
    "    for c in classes:\n",
    "        X_c = x_train[y_train == c]\n",
    "        parameters[c] = {\n",
    "            'mean': np.mean(X_c, axis=0),\n",
    "            'std': np.std(X_c, axis=0)\n",
    "        }\n",
    "\n",
    "    return class_probabilities, parameters\n",
    "\n",
    "def predict_naive_bayes(x_test, class_probabilities, parameters):\n",
    "    predictions = []\n",
    "    for x in x_test:\n",
    "        probabilities = []\n",
    "        for c in class_probabilities:\n",
    "            p = class_probabilities[c]\n",
    "            for i, param in enumerate(parameters[c]['mean']):\n",
    "                mean = param\n",
    "                std = parameters[c]['std'][i]\n",
    "                p *= calculate_probability(x[i], mean, std)\n",
    "            probabilities.append(p)\n",
    "        predictions.append(list(class_probabilities.keys())[np.argmax(probabilities)])\n",
    "    return predictions\n",
    "\n",
    "def euclidean_distance(x1, x2):\n",
    "    return np.sqrt(np.sum((x1 - x2) ** 2))\n",
    "\n",
    "def fit_knn(x_train, y_train, k):\n",
    "    return x_train, y_train, k\n",
    "\n",
    "def predict_knn(x_test, x_train, y_train, k):\n",
    "    predictions = []\n",
    "    for x in x_test:\n",
    "        distances = []\n",
    "        for i, x_train in enumerate(x_train):\n",
    "            distance = euclidean_distance(x, x_train)\n",
    "            distances.append((distance, y_train[i]))\n",
    "        distances = sorted(distances)[:k]\n",
    "        labels = [label for _, label in distances]\n",
    "        predictions.append(np.argmax(np.bincount(labels)))\n",
    "    return predictions\n",
    "\n",
    "# Example usage\n",
    "x_train = np.array([[1, 2], [2, 1], [3, 4], [4, 3]])\n",
    "y_train = np.array([0, 0, 1, 1])\n",
    "x_test = np.array([[1, 1], [4, 4]])\n",
    "\n",
    "# Naive Bayes\n",
    "class_probabilities, parameters = fit_naive_bayes(x_train, y_train)\n",
    "naive_bayes_predictions = predict_naive_bayes(x_test, class_probabilities, parameters)\n",
    "print(\"Naive Bayes Predictions:\", naive_bayes_predictions)\n",
    "\n",
    "# KNN\n",
    "k = 3\n",
    "x_train_knn, y_train_knn, k_knn = fit_knn(x_train, y_train, k)\n",
    "knn_predictions = predict_knn(x_test, x_train_knn, y_train_knn, k_knn)\n",
    "print(\"KNN Predictions:\", knn_predictions)\n"
   ]
  },
  {
   "cell_type": "code",
   "execution_count": null,
   "id": "c1195301",
   "metadata": {},
   "outputs": [],
   "source": []
  }
 ],
 "metadata": {
  "kernelspec": {
   "display_name": "Python 3 (ipykernel)",
   "language": "python",
   "name": "python3"
  },
  "language_info": {
   "codemirror_mode": {
    "name": "ipython",
    "version": 3
   },
   "file_extension": ".py",
   "mimetype": "text/x-python",
   "name": "python",
   "nbconvert_exporter": "python",
   "pygments_lexer": "ipython3",
   "version": "3.10.9"
  }
 },
 "nbformat": 4,
 "nbformat_minor": 5
}
